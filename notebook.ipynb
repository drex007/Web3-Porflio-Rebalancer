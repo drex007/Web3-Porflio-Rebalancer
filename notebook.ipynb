{
 "cells": [
  {
   "cell_type": "code",
   "execution_count": 1,
   "metadata": {},
   "outputs": [],
   "source": [
    "from moccasin import setup_notebook\n",
    "setup_notebook()"
   ]
  },
  {
   "cell_type": "code",
   "execution_count": 2,
   "metadata": {},
   "outputs": [
    {
     "name": "stdout",
     "output_type": "stream",
     "text": [
      "eth-forked\n"
     ]
    }
   ],
   "source": [
    "from moccasin.config import get_active_network\n",
    "active_network = get_active_network()\n",
    "print(active_network.name)"
   ]
  },
  {
   "cell_type": "code",
   "execution_count": 77,
   "metadata": {},
   "outputs": [
    {
     "name": "stdout",
     "output_type": "stream",
     "text": [
      "Claiming faucets : ===============>\n",
      "WETH STARTING 1328620271631771072\n",
      "WETH ENDING 2328620271631771072\n",
      "USDC ENDING 4528489239\n",
      "USDC ENDING 4628489239\n"
     ]
    }
   ],
   "source": [
    "from typing import Tuple\n",
    "from boa.contracts.abi.abi_contract import ABIContract\n",
    "from moccasin.config import get_active_network\n",
    "import boa\n",
    "\n",
    "STARTING_ETH_BALANCE = int(1000e18)\n",
    "STARTING_WETH_BALANCE = int(1e18)\n",
    "STARTING_USDC_BALANCE = int(100e6) #USDC has 6 decimials \n",
    "def _add_eth_balance():\n",
    "    boa.env.set_balance(boa.env.eoa, STARTING_ETH_BALANCE)\n",
    "    \n",
    "def _add_token_balance(usdc,weth):\n",
    "    print(f\"WETH STARTING {weth.balanceOf(boa.env.eoa)}\")\n",
    "    weth.deposit(value = STARTING_WETH_BALANCE)\n",
    "    print(f\"WETH ENDING {weth.balanceOf(boa.env.eoa)}\")\n",
    "    \n",
    "    \n",
    "    #Our conncected Network address\n",
    "    our_address = boa.env.eoa\n",
    "    \n",
    "    \n",
    "    #Mint  USdc\n",
    "    #We will need to prank ourselves as owners inorder to mint \n",
    "    with boa.env.prank(usdc.owner()):\n",
    "        usdc.updateMasterMinter(our_address)\n",
    "    print(f\"USDC ENDING {usdc.balanceOf(boa.env.eoa)}\")\n",
    "    usdc.configureMinter(our_address, STARTING_USDC_BALANCE )\n",
    "    usdc.mint(our_address, STARTING_USDC_BALANCE)\n",
    "    print(f\"USDC ENDING {usdc.balanceOf(boa.env.eoa)}\")\n",
    "     \n",
    " \n",
    "def setup_script() -> Tuple[ABIContract, ABIContract, ABIContract, ABIContract ]:\n",
    "    print(\"Claiming faucets : ===============>\")\n",
    "    \n",
    "    #Get active Network\n",
    "    active_network = get_active_network()\n",
    "    \n",
    "    usdc = active_network.manifest_named(\"usdc\")\n",
    "    weth = active_network.manifest_named(\"weth\")\n",
    "    if active_network.is_local_or_forked_network():\n",
    "        _add_eth_balance()\n",
    "        _add_token_balance(usdc,weth)\n",
    "    \n",
    "    \n",
    "    \n",
    "def moccasin_main():\n",
    "    setup_script()\n",
    "\n",
    "\n",
    "\n",
    "moccasin_main()    "
   ]
  },
  {
   "cell_type": "code",
   "execution_count": 4,
   "metadata": {},
   "outputs": [],
   "source": [
    "    \n",
    "usdc = active_network.manifest_named(\"usdc\")\n",
    "weth = active_network.manifest_named(\"weth\")"
   ]
  },
  {
   "cell_type": "code",
   "execution_count": 65,
   "metadata": {},
   "outputs": [
    {
     "data": {
      "text/plain": [
       "2000000000000000000"
      ]
     },
     "execution_count": 65,
     "metadata": {},
     "output_type": "execute_result"
    }
   ],
   "source": [
    "usdc.balanceOf(boa.env.eoa)\n",
    "weth.balanceOf(boa.env.eoa)"
   ]
  },
  {
   "cell_type": "code",
   "execution_count": 6,
   "metadata": {},
   "outputs": [
    {
     "data": {
      "text/plain": [
       "<usdc interface at 0xA0b86991c6218b36c1d19D4a2e9Eb0cE3606eB48>"
      ]
     },
     "execution_count": 6,
     "metadata": {},
     "output_type": "execute_result"
    }
   ],
   "source": [
    "usdc"
   ]
  },
  {
   "cell_type": "code",
   "execution_count": 7,
   "metadata": {},
   "outputs": [
    {
     "data": {
      "text/plain": [
       "<weth interface at 0xC02aaA39b223FE8D0A0e5C4F27eAD9083C756Cc2>"
      ]
     },
     "execution_count": 7,
     "metadata": {},
     "output_type": "execute_result"
    }
   ],
   "source": [
    "weth"
   ]
  },
  {
   "cell_type": "markdown",
   "metadata": {},
   "source": [
    "Deposit into AAVE"
   ]
  },
  {
   "cell_type": "code",
   "execution_count": 8,
   "metadata": {},
   "outputs": [
    {
     "name": "stdout",
     "output_type": "stream",
     "text": [
      "0x87870Bca3F3fD6335C3F4ce8392D69350B4fA4E2\n"
     ]
    }
   ],
   "source": [
    "#Reload Config\n",
    "from moccasin.config import get_or_initialize_config\n",
    "config = get_or_initialize_config()\n",
    "config.reload()\n",
    "active_network = config.get_active_network()\n",
    "\n",
    "aavev3_pool_address_provider = active_network.manifest_named(\"aavev3_pool_address_provider\")\n",
    "pool_address = aavev3_pool_address_provider.getPool()\n",
    "print(pool_address)\n",
    "\n",
    "config.reload()\n",
    "active_network = config.get_active_network()\n",
    "pool_contract = active_network.manifest_named(\"pool\", address = pool_address )"
   ]
  },
  {
   "cell_type": "code",
   "execution_count": 9,
   "metadata": {},
   "outputs": [
    {
     "data": {
      "text/plain": [
       "<pool interface at 0x87870Bca3F3fD6335C3F4ce8392D69350B4fA4E2>"
      ]
     },
     "execution_count": 9,
     "metadata": {},
     "output_type": "execute_result"
    }
   ],
   "source": [
    "pool_contract\n"
   ]
  },
  {
   "cell_type": "code",
   "execution_count": 79,
   "metadata": {},
   "outputs": [
    {
     "name": "stdout",
     "output_type": "stream",
     "text": [
      "Deposting USD Coin Money to AAVE Contract 0x87870Bca3F3fD6335C3F4ce8392D69350B4fA4E2\n",
      "Deposting Wrapped Ether Money to AAVE Contract 0x87870Bca3F3fD6335C3F4ce8392D69350B4fA4E2\n",
      "User account data:\n",
      "    totalCollateralBase: 1343827942931\n",
      "    totalDebtBase: 0\n",
      "    availableBorrowsBase: 1049664006223\n",
      "    currentLiquidationThreshold: 8082\n",
      "    ltv: 7811\n",
      "    healthFactor: 115792089237316195423570985008687907853269984665640564039457584007913129639935\n",
      "        \n"
     ]
    }
   ],
   "source": [
    "REFERRAL_CODE = 0\n",
    "\n",
    "def deposit(pool_contract, token, amount):\n",
    "    allowed_amount =token.allowance(boa.env.eoa, pool_contract)\n",
    "    if allowed_amount  < amount:\n",
    "        token.approve(pool_contract.address, amount)\n",
    "    print(f\"Deposting {token.name()} Money to AAVE Contract {pool_contract.address}\")\n",
    "    pool_contract.supply(token.address, amount, boa.env.eoa, REFERRAL_CODE)\n",
    "    \n",
    "\n",
    "usdc_balance = usdc.balanceOf(boa.env.eoa)\n",
    "weth_balance = weth.balanceOf(boa.env.eoa)\n",
    "\n",
    "if usdc_balance > 0:\n",
    "    deposit(pool_contract,usdc, usdc_balance )\n",
    "    \n",
    "    \n",
    "if weth_balance > 0:\n",
    "    deposit(pool_contract,weth, weth_balance )\n",
    "        \n",
    "\n",
    "(\n",
    "        totalCollateralBase,\n",
    "        totalDebtBase,\n",
    "        availableBorrowsBase,\n",
    "        currentLiquidationThreshold,\n",
    "        ltv,\n",
    "        healthFactor,\n",
    "    ) = pool_contract.getUserAccountData(boa.env.eoa)\n",
    "print(f\"\"\"User account data:\n",
    "    totalCollateralBase: {totalCollateralBase}\n",
    "    totalDebtBase: {totalDebtBase}\n",
    "    availableBorrowsBase: {availableBorrowsBase}\n",
    "    currentLiquidationThreshold: {currentLiquidationThreshold}\n",
    "    ltv: {ltv}\n",
    "    healthFactor: {healthFactor}\n",
    "        \"\"\")"
   ]
  },
  {
   "cell_type": "markdown",
   "metadata": {},
   "source": [
    "# Get the List of AAVE tokens "
   ]
  },
  {
   "cell_type": "code",
   "execution_count": 12,
   "metadata": {},
   "outputs": [
    {
     "name": "stdout",
     "output_type": "stream",
     "text": [
      "[('aEthWETH', Address('0x4d5F47FA6A74757f35C14fD3a6Ef8E3C9BC514E8')), ('aEthwstETH', Address('0x0B925eD163218f6662a35e0f0371Ac234f9E9371')), ('aEthWBTC', Address('0x5Ee5bf7ae06D1Be5997A1A72006FE6C607eC6DE8')), ('aEthUSDC', Address('0x98C23E9d8f34FEFb1B7BD6a91B7FF122F4e16F5c')), ('aEthDAI', Address('0x018008bfb33d285247A21d44E50697654f754e63')), ('aEthLINK', Address('0x5E8C8A7243651DB1384C0dDfDbE39761E8e7E51a')), ('aEthAAVE', Address('0xA700b4eB416Be35b2911fd5Dee80678ff64fF6C9')), ('aEthcbETH', Address('0x977b6fc5dE62598B08C85AC8Cf2b745874E8b78c')), ('aEthUSDT', Address('0x23878914EFE38d27C4D67Ab83ed1b93A74D4086a')), ('aEthrETH', Address('0xCc9EE9483f662091a1de4795249E24aC0aC2630f')), ('aEthLUSD', Address('0x3Fe6a295459FAe07DF8A0ceCC36F37160FE86AA9')), ('aEthCRV', Address('0x7B95Ec873268a6BFC6427e7a28e396Db9D0ebc65')), ('aEthMKR', Address('0x8A458A9dc9048e005d22849F470891b840296619')), ('aEthSNX', Address('0xC7B4c17861357B8ABB91F25581E7263E08DCB59c')), ('aEthBAL', Address('0x2516E7B3F76294e03C42AA4c5b5b4DCE9C436fB8')), ('aEthUNI', Address('0xF6D2224916DDFbbab6e6bd0D1B7034f4Ae0CaB18')), ('aEthLDO', Address('0x9A44fd41566876A39655f74971a3A6eA0a17a454')), ('aEthENS', Address('0x545bD6c032eFdde65A377A6719DEF2796C8E0f2e')), ('aEth1INCH', Address('0x71Aef7b30728b9BB371578f36c5A1f1502a5723e')), ('aEthFRAX', Address('0xd4e245848d6E1220DBE62e155d89fa327E43CB06')), ('aEthGHO', Address('0x00907f9921424583e7ffBfEdf84F92B7B2Be4977')), ('aEthRPL', Address('0xB76CF92076adBF1D9C39294FA8e7A67579FDe357')), ('aEthsDAI', Address('0x4C612E3B15b96Ff9A6faED838F8d07d479a8dD4c')), ('aEthSTG', Address('0x1bA9843bD4327c6c77011406dE5fA8749F7E3479')), ('aEthKNC', Address('0x5b502e3796385E1e9755d7043B9C945C3aCCeC9C')), ('aEthFXS', Address('0x82F9c5ad306BBa1AD0De49bB5FA6F01bf61085ef')), ('aEthcrvUSD', Address('0xb82fa9f31612989525992FCfBB09AB22Eff5c85A')), ('aEthPYUSD', Address('0x0C0d01AbF3e6aDfcA0989eBbA9d6e85dD58EaB1E')), ('aEthweETH', Address('0xBdfa7b7893081B35Fb54027489e2Bc7A38275129')), ('aEthosETH', Address('0x927709711794F3De5DdBF1D176bEE2D55Ba13c21')), ('aEthUSDe', Address('0x4F5923Fc5FD4a93352581b38B7cD26943012DECF')), ('aEthETHx', Address('0x1c0E06a0b1A4c160c17545FF2A951bfcA57C0002')), ('aEthsUSDe', Address('0x4579a27aF00A62C0EB156349f31B345c08386419')), ('aEthtBTC', Address('0x10Ac93971cdb1F5c778144084242374473c350Da')), ('aEthcbBTC', Address('0x5c647cE0Ae10658ec44FA4E11A51c96e94efd1Dd')), ('aEthUSDS', Address('0x32a6268f9Ba3642Dda7892aDd74f1D34469A4259')), ('aEthrsETH', Address('0x2D62109243b87C4bA3EE7bA1D91B0dD0A074d7b1')), ('aEthLBTC', Address('0x65906988ADEe75306021C417a1A3458040239602'))]\n"
     ]
    }
   ],
   "source": [
    "config.reload()\n",
    "active_network = config.get_active_network()\n",
    "aave_protocol_data_provider = active_network.manifest_named(\"aave_protocol_data_provider\")\n",
    "a_tokens = aave_protocol_data_provider.getAllATokens()\n",
    "print(a_tokens)\n"
   ]
  },
  {
   "cell_type": "code",
   "execution_count": 19,
   "metadata": {},
   "outputs": [
    {
     "name": "stdout",
     "output_type": "stream",
     "text": [
      "<usdc interface at 0x98C23E9d8f34FEFb1B7BD6a91B7FF122F4e16F5c>\n",
      "<weth interface at 0x4d5F47FA6A74757f35C14fD3a6Ef8E3C9BC514E8>\n"
     ]
    }
   ],
   "source": [
    "for a_token in a_tokens:\n",
    "    if \"WETH\" in a_token[0]:\n",
    "        a_weth = active_network.manifest_named(\"weth\", address = a_token[1])\n",
    "    if \"USDC\" in a_token[0]:\n",
    "        a_usdc = active_network.manifest_named(\"usdc\", address = a_token[1])\n",
    "        \n",
    "        \n",
    "print(a_usdc)\n",
    "print(a_weth)"
   ]
  },
  {
   "cell_type": "code",
   "execution_count": null,
   "metadata": {},
   "outputs": [],
   "source": [
    "# Get the amount in USDC and WETH deposited in AAVE"
   ]
  },
  {
   "cell_type": "code",
   "execution_count": 80,
   "metadata": {},
   "outputs": [
    {
     "name": "stdout",
     "output_type": "stream",
     "text": [
      "5834.243715\n",
      "2.328620271631771\n"
     ]
    }
   ],
   "source": [
    "a_usdc_balance = a_usdc.balanceOf(boa.env.eoa)\n",
    "a_weth_balance = a_weth.balanceOf(boa.env.eoa)\n",
    "\n",
    "a_usdc_balance_normalized = a_usdc_balance / 1_000_000\n",
    "a_weth_balance_normalized = a_weth_balance / 1_000_000_000_000_000_000\n",
    "\n",
    "print(a_usdc_balance_normalized)\n",
    "print(a_weth_balance_normalized)"
   ]
  },
  {
   "cell_type": "markdown",
   "metadata": {},
   "source": [
    "# Get Price dunction"
   ]
  },
  {
   "cell_type": "code",
   "execution_count": 67,
   "metadata": {},
   "outputs": [
    {
     "name": "stdout",
     "output_type": "stream",
     "text": [
      "1.00000731\n",
      "3265.45\n"
     ]
    }
   ],
   "source": [
    "config.reload()\n",
    "\n",
    "def get_price(feed_name:str):\n",
    "    active_network = get_active_network()\n",
    "    price_feed = active_network.manifest_named(feed_name)\n",
    "    price = price_feed.latestAnswer()\n",
    "    decimals = price_feed.decimals()\n",
    "    decimal_normalized =  10 ** decimals\n",
    "    return price / decimal_normalized\n",
    "\n",
    "\n",
    "usdc_price = get_price(\"usdc_usd_price_feed\")\n",
    "weth_price = get_price(\"eth_usd_price_feed\")\n",
    "\n",
    "\n",
    "print(usdc_price)\n",
    "print(weth_price)"
   ]
  },
  {
   "cell_type": "code",
   "execution_count": 81,
   "metadata": {},
   "outputs": [
    {
     "name": "stdout",
     "output_type": "stream",
     "text": [
      "True\n",
      "0.43415426759109443\n",
      "0.5658457324089056\n"
     ]
    }
   ],
   "source": [
    "usdc_value = a_usdc_balance_normalized * usdc_price\n",
    "weth_value = a_weth_balance_normalized * weth_price\n",
    "\n",
    "total_value = usdc_value + weth_value\n",
    "\n",
    "target_usdc_value = 0.3\n",
    "target_weth_value = 0.7\n",
    "\n",
    "usdc_percent_allocation = usdc_value /total_value\n",
    "weth_percent_allocation  = weth_value  / total_value\n",
    "\n",
    "BUFFER = 0.1\n",
    "\n",
    "\n",
    "needs_rebalance =  (\n",
    "    abs(usdc_percent_allocation - target_usdc_value) > BUFFER or abs(weth_percent_allocation - target_weth_value) > BUFFER\n",
    ")\n",
    "\n",
    "print(needs_rebalance)\n",
    "print(usdc_percent_allocation)\n",
    "print(weth_percent_allocation)"
   ]
  },
  {
   "cell_type": "code",
   "execution_count": 82,
   "metadata": {},
   "outputs": [
    {
     "name": "stdout",
     "output_type": "stream",
     "text": [
      "2328620271631771072 0xf39Fd6e51aad88F6F4ce6aB8827279cffFb92266 0xC02aaA39b223FE8D0A0e5C4F27eAD9083C756Cc2 A WETH\n",
      "USDC BALANCE :  {0}\n",
      "WETH BALANCE :  {2328620271631771072}\n",
      "aUSDC BALANCE :  {5834243715}\n",
      "aWETH BALANCE :  {0}\n"
     ]
    }
   ],
   "source": [
    "a_weth.approve(pool_contract.address, a_weth.balanceOf(boa.env.eoa))\n",
    "print(a_weth.balanceOf(boa.env.eoa), boa.env.eoa,weth.address, \"A WETH\")\n",
    "pool_contract.withdraw(weth.address, a_weth.balanceOf(boa.env.eoa), boa.env.eoa)\n",
    "def print_token_balances():\n",
    "    print(f\"USDC BALANCE : \", {usdc.balanceOf(boa.env.eoa)})\n",
    "    print(f\"WETH BALANCE : \", {weth.balanceOf(boa.env.eoa)})\n",
    "    print(f\"aUSDC BALANCE : \", {a_usdc.balanceOf(boa.env.eoa)})\n",
    "    print(f\"aWETH BALANCE : \", {a_weth.balanceOf(boa.env.eoa)})\n",
    "    \n",
    "print_token_balances()"
   ]
  },
  {
   "cell_type": "markdown",
   "metadata": {},
   "source": [
    "# Calaculate rebalancing to ensure its weth is 70% of the portfolio and 30% of usdc"
   ]
  },
  {
   "cell_type": "code",
   "execution_count": 70,
   "metadata": {},
   "outputs": [
    {
     "name": "stdout",
     "output_type": "stream",
     "text": [
      "{'usdc': {'contract': <usdc interface at 0xA0b86991c6218b36c1d19D4a2e9Eb0cE3606eB48>, 'trade': 909.6278396204973}, 'weth': {'contract': <weth interface at 0xC02aaA39b223FE8D0A0e5C4F27eAD9083C756Cc2>, 'trade': -0.2785632880613715}}\n"
     ]
    }
   ],
   "source": [
    "usdc_data = {\"balance\":a_usdc_balance_normalized, \"price\":usdc_price, \"contract\": usdc}\n",
    "weth_data = {\"balance\":a_weth_balance_normalized, \"price\":weth_price, \"contract\": weth}\n",
    "\n",
    "target_allocations = {\"usdc\": 0.3, \"weth\": 0.7}\n",
    "\n",
    "def calculate_rebalancing_trades(\n",
    "    usdc_data: dict,  # {\"balance\": float, \"price\": float, \"contract\": Contract}\n",
    "    weth_data: dict,  # {\"balance\": float, \"price\": float, \"contract\": Contract}\n",
    "    target_allocations: dict[str, float],  # {\"usdc\": 0.3, \"weth\": 0.7}\n",
    ") -> dict[str, dict]:\n",
    "    \"\"\"\n",
    "    Calculate the trades needed to rebalance a portfolio of USDC and WETH.\n",
    "\n",
    "    Args:\n",
    "        usdc_data: Dict containing USDC balance, price and contract\n",
    "        weth_data: Dict containing WETH balance, price and contract\n",
    "        target_allocations: Dict of token symbol to target allocation (must sum to 1)\n",
    "\n",
    "    Returns:\n",
    "        Dict of token symbol to dict containing contract and trade amount:\n",
    "            {\"usdc\": {\"contract\": Contract, \"trade\": int},\n",
    "             \"weth\": {\"contract\": Contract, \"trade\": int}}\n",
    "    \"\"\"\n",
    "    # Calculate current values\n",
    "    usdc_value = usdc_data[\"balance\"] * usdc_data[\"price\"]\n",
    "    weth_value = weth_data[\"balance\"] * weth_data[\"price\"]\n",
    "    total_value = usdc_value + weth_value\n",
    "\n",
    "    # Calculate target values\n",
    "    target_usdc_value = total_value * target_allocations[\"usdc\"]\n",
    "    target_weth_value = total_value * target_allocations[\"weth\"]\n",
    "\n",
    "    # Calculate trades needed in USD\n",
    "    usdc_trade_usd = target_usdc_value - usdc_value\n",
    "    weth_trade_usd = target_weth_value - weth_value\n",
    "\n",
    "    # Convert to token amounts\n",
    "    return {\n",
    "        \"usdc\": {\n",
    "            \"contract\": usdc_data[\"contract\"],\n",
    "            \"trade\": usdc_trade_usd / usdc_data[\"price\"],\n",
    "        },\n",
    "        \"weth\": {\n",
    "            \"contract\": weth_data[\"contract\"],\n",
    "            \"trade\": weth_trade_usd / weth_data[\"price\"],\n",
    "        },\n",
    "    }\n",
    "\n",
    "trades = calculate_rebalancing_trades(usdc_data, weth_data, target_allocations)\n",
    "print(trades)\n",
    "weth_to_sell = trades[\"weth\"][\"trade\"]"
   ]
  },
  {
   "cell_type": "markdown",
   "metadata": {},
   "source": [
    "# Swap collateral using uniswap router "
   ]
  },
  {
   "cell_type": "code",
   "execution_count": 83,
   "metadata": {},
   "outputs": [
    {
     "name": "stdout",
     "output_type": "stream",
     "text": [
      "278563288061371488 AMount to sell\n",
      "SWAPPING : ======================>\n",
      "818665055 MININUM OUT\n",
      "USDC BALANCE :  {905641224}\n",
      "WETH BALANCE :  {2050056983570399584}\n",
      "aUSDC BALANCE :  {5834243715}\n",
      "aWETH BALANCE :  {0}\n"
     ]
    }
   ],
   "source": [
    "config.reload()\n",
    "\n",
    "active_network = config.get_active_network()\n",
    "\n",
    "uniswap_swap_router = active_network.manifest_named(\"uniswap_swap_router\")\n",
    "amount_weth = abs(int(weth_to_sell * (10 ** 18)))\n",
    "print(amount_weth, \"AMount to sell\")\n",
    "\n",
    "weth.approve(uniswap_swap_router.address, amount_weth)\n",
    "\n",
    "print(\"SWAPPING : ======================>\")\n",
    "min_out = int(trades[\"usdc\"][\"trade\"] * (10 ** 6) * 0.90)\n",
    "\n",
    "print(min_out, \"MININUM OUT\")\n",
    "\n",
    "\n",
    "    # struct ExactInputSingleParams {\n",
    "    #     address tokenIn;\n",
    "    #     address tokenOut;\n",
    "    #     uint24 fee;\n",
    "    #     address recipient;\n",
    "    #     uint256 amountIn;\n",
    "    #     uint256 amountOutMinimum;\n",
    "    #     uint160 sqrtPriceLimitX96;\n",
    "    # }\n",
    "\n",
    "uniswap_swap_router.exactInputSingle(\n",
    "    (\n",
    "        weth.address,\n",
    "        usdc.address,\n",
    "        3000,\n",
    "        boa.env.eoa,\n",
    "        amount_weth,\n",
    "        min_out,\n",
    "        0\n",
    "        \n",
    "        \n",
    "        \n",
    "        \n",
    "    )\n",
    "    \n",
    ")\n",
    "\n",
    "print_token_balances()"
   ]
  }
 ],
 "metadata": {
  "kernelspec": {
   "display_name": ".venv",
   "language": "python",
   "name": "python3"
  },
  "language_info": {
   "codemirror_mode": {
    "name": "ipython",
    "version": 3
   },
   "file_extension": ".py",
   "mimetype": "text/x-python",
   "name": "python",
   "nbconvert_exporter": "python",
   "pygments_lexer": "ipython3",
   "version": "3.11.11"
  }
 },
 "nbformat": 4,
 "nbformat_minor": 2
}
